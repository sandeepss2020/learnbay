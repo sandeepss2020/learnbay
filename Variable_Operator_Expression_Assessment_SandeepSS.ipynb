{
  "cells": [
    {
      "cell_type": "markdown",
      "metadata": {
        "id": "view-in-github",
        "colab_type": "text"
      },
      "source": [
        "<a href=\"https://colab.research.google.com/github/sandeepss2020/learnbay/blob/python_class/Variable_Operator_Expression_Assessment_SandeepSS.ipynb\" target=\"_parent\"><img src=\"https://colab.research.google.com/assets/colab-badge.svg\" alt=\"Open In Colab\"/></a>"
      ]
    },
    {
      "cell_type": "markdown",
      "id": "5474b024",
      "metadata": {
        "id": "5474b024"
      },
      "source": [
        "### Variable, Operator and Expression\n",
        "\n",
        "1. Write a program that asks the user for his name and then welcomes him. The output should look like this :\n",
        "\n",
        "Enter your name : Saksham\n",
        "Hello Saksham\n",
        "Solution\n",
        "2. Write a program that prompts the user to enter two integers and display the total on the screen. Solution\n",
        "\n",
        "3. Write a program that prompts the user to input a Celsius temperature and outputs the equivalent temperature in Fahrenheit. The formula to convert the temperature is: F = 9/5 C + 32 where F is the Fahrenheit temperature and C is the Celsius temperature. Solution\n",
        "\n",
        "4. Write a program which accept principle, rate and time from user and print the simple interest. The formula to calculate simple interest is: simple interest = principle x rate x time / 100 Solution\n",
        "\n",
        "5. Write a program that accepts seconds from keyboard as integer. Your program should converts seconds in hours, minutes and seconds. Your output should like this :\n",
        "\n",
        "Enter seconds: 13400\n",
        "Hours: 3\n",
        "Minutes: 43\n",
        "Seconds: 20  Solution\n",
        "6. Write a program that prompts the user to enter number in two variables and swap the contents of the variables. Solution\n",
        "\n",
        "7. Write a program that prompts the user to enter number in two variables and swap the contents of the variables.(Do not declare extra variable.) Solution\n",
        "\n",
        "8. Write a program that prompts the user to input the radius of a circle and outputs the area and circumference of the circle. The formula is\n",
        "Area = pi x radius2\n",
        "Circumference = 2 x pi x radius Solution"
      ]
    },
    {
      "cell_type": "code",
      "execution_count": null,
      "id": "20e7f441",
      "metadata": {
        "id": "20e7f441"
      },
      "outputs": [],
      "source": []
    },
    {
      "cell_type": "code",
      "source": [],
      "metadata": {
        "id": "1SM75SMzI3_O"
      },
      "id": "1SM75SMzI3_O",
      "execution_count": null,
      "outputs": []
    },
    {
      "cell_type": "markdown",
      "source": [
        "# 1) Write a program that asks the user for his name and then welcomes him. The output should look like this :\n",
        "Enter your name : Saksham Hello Saksham Solution"
      ],
      "metadata": {
        "id": "a7a07bB2I4Ux"
      },
      "id": "a7a07bB2I4Ux"
    },
    {
      "cell_type": "code",
      "source": [
        "userName = input(\"Enter your Name : \")\n",
        "print(f'Hello {userName}')"
      ],
      "metadata": {
        "colab": {
          "base_uri": "https://localhost:8080/"
        },
        "id": "YWuZtEPhI7Dc",
        "outputId": "6546f069-a67e-49b9-8888-8c09237891e9"
      },
      "id": "YWuZtEPhI7Dc",
      "execution_count": null,
      "outputs": [
        {
          "output_type": "stream",
          "name": "stdout",
          "text": [
            "Enter your Name : Sakshi\n",
            "Hello Sakshi\n"
          ]
        }
      ]
    },
    {
      "cell_type": "code",
      "source": [],
      "metadata": {
        "id": "Ufml-92XJNFs"
      },
      "id": "Ufml-92XJNFs",
      "execution_count": null,
      "outputs": []
    },
    {
      "cell_type": "code",
      "source": [],
      "metadata": {
        "id": "WaCypy9pJNCV"
      },
      "id": "WaCypy9pJNCV",
      "execution_count": null,
      "outputs": []
    },
    {
      "cell_type": "markdown",
      "source": [
        "# 2) Write a program that prompts the user to enter two integers and display the total on the screen."
      ],
      "metadata": {
        "id": "Q7l8WXXdJO7W"
      },
      "id": "Q7l8WXXdJO7W"
    },
    {
      "cell_type": "code",
      "source": [
        "int1 = int(input(\"Enter 1st Num: \"))\n",
        "int2 = int(input(\"Enter 2nd Num: \"))\n",
        "\n",
        "print(f'Sum is : {int1+int2}')"
      ],
      "metadata": {
        "colab": {
          "base_uri": "https://localhost:8080/"
        },
        "id": "z_KWNeTNJUJ-",
        "outputId": "6b78b0f0-5871-4acf-b103-8117d206eb4a"
      },
      "id": "z_KWNeTNJUJ-",
      "execution_count": null,
      "outputs": [
        {
          "output_type": "stream",
          "name": "stdout",
          "text": [
            "Enter 1st Num: 56\n",
            "Enter 2nd Num: 6\n",
            "Sum is : 62\n"
          ]
        }
      ]
    },
    {
      "cell_type": "code",
      "source": [
        "6"
      ],
      "metadata": {
        "id": "VudR-amrJi5y"
      },
      "id": "VudR-amrJi5y",
      "execution_count": null,
      "outputs": []
    },
    {
      "cell_type": "code",
      "source": [],
      "metadata": {
        "id": "joitD4l8J6cJ"
      },
      "id": "joitD4l8J6cJ",
      "execution_count": null,
      "outputs": []
    },
    {
      "cell_type": "code",
      "source": [],
      "metadata": {
        "id": "o9vwcneQJ6Oy"
      },
      "id": "o9vwcneQJ6Oy",
      "execution_count": null,
      "outputs": []
    },
    {
      "cell_type": "markdown",
      "source": [
        "# 3) Write a program that prompts the user to input a Celsius temperature and outputs the equivalent temperature in Fahrenheit.\n",
        "The formula to convert the temperature is: F = 9/5 C + 32 where F is the Fahrenheit temperature and C is the Celsius temperature. Solution"
      ],
      "metadata": {
        "id": "4lS9AKdpJ68g"
      },
      "id": "4lS9AKdpJ68g"
    },
    {
      "cell_type": "code",
      "source": [
        "temp = float(input(\"Enter Temp in Celcius : \"))\n",
        "fTemp = (9/5 * temp) + 32\n",
        "print(\"Temp in Fahrenheit : \", fTemp)"
      ],
      "metadata": {
        "colab": {
          "base_uri": "https://localhost:8080/"
        },
        "id": "n1WDPScuKB7h",
        "outputId": "2dacc775-d0f8-4e16-cb53-1f241aca0823"
      },
      "id": "n1WDPScuKB7h",
      "execution_count": null,
      "outputs": [
        {
          "output_type": "stream",
          "name": "stdout",
          "text": [
            "Enter Temp in Celcius : 92.3\n",
            "Temp in Fahrenheit :  198.14\n"
          ]
        }
      ]
    },
    {
      "cell_type": "code",
      "source": [],
      "metadata": {
        "id": "n11y9KDLKdEY"
      },
      "id": "n11y9KDLKdEY",
      "execution_count": null,
      "outputs": []
    },
    {
      "cell_type": "code",
      "source": [],
      "metadata": {
        "id": "gFB6ND6dKoED"
      },
      "id": "gFB6ND6dKoED",
      "execution_count": null,
      "outputs": []
    },
    {
      "cell_type": "markdown",
      "source": [
        "# 4) Write a program which accept principle, rate and time from user and print the simple interest.\n",
        "The formula to calculate simple interest is: simple interest = principle x rate x time / 100\n"
      ],
      "metadata": {
        "id": "dIPtKp8HKolR"
      },
      "id": "dIPtKp8HKolR"
    },
    {
      "cell_type": "code",
      "source": [
        "principle = float(input(\"Enter your Base amount : \"))\n",
        "rate = float(input(\"Enter Rate of Int : \"))\n",
        "times = float(input(\"Enter Total time in yeras : \"))\n",
        "simpleInt = (principle * rate * times) / 100\n",
        "print(\"Simple Interest is : \",simpleInt)"
      ],
      "metadata": {
        "colab": {
          "base_uri": "https://localhost:8080/"
        },
        "id": "zJuvDvDJKwiK",
        "outputId": "c1904799-6498-439f-bcf9-eac89e1e2c7b"
      },
      "id": "zJuvDvDJKwiK",
      "execution_count": null,
      "outputs": [
        {
          "output_type": "stream",
          "name": "stdout",
          "text": [
            "Enter your Base amount : 100\n",
            "Enter Rate of Int : 2\n",
            "Enter Total time in yeras : 2\n",
            "Simple Interest is :  4.0\n"
          ]
        }
      ]
    },
    {
      "cell_type": "code",
      "source": [],
      "metadata": {
        "id": "gY9n0bdjLZQz"
      },
      "id": "gY9n0bdjLZQz",
      "execution_count": null,
      "outputs": []
    },
    {
      "cell_type": "code",
      "source": [],
      "metadata": {
        "id": "jLG4ntnNLyhI"
      },
      "id": "jLG4ntnNLyhI",
      "execution_count": null,
      "outputs": []
    },
    {
      "cell_type": "markdown",
      "source": [
        "#5) Write a program that accepts seconds from keyboard as integer. Your program should converts seconds in hours, minutes and seconds. Your output should like this :\n",
        "\n",
        "Enter seconds: 13400 Hours: 3 Minutes: 43 Seconds: 20\n"
      ],
      "metadata": {
        "id": "ltmoHl_JLy8Z"
      },
      "id": "ltmoHl_JLy8Z"
    },
    {
      "cell_type": "code",
      "source": [
        "userInput = int(input(\"Enter Time in seconds : \"))\n",
        "totalMins = userInput // 60\n",
        "hours = totalMins // 60\n",
        "mins = totalMins % 60\n",
        "second = userInput % 60\n",
        "print(f'Hours :{hours} Minutes :{mins} Seconds :{second}')"
      ],
      "metadata": {
        "colab": {
          "base_uri": "https://localhost:8080/"
        },
        "id": "Mg8fjd87MQIt",
        "outputId": "721b0a7a-3ae6-431c-a4a9-4f45ec854aae"
      },
      "id": "Mg8fjd87MQIt",
      "execution_count": null,
      "outputs": [
        {
          "output_type": "stream",
          "name": "stdout",
          "text": [
            "Enter Time in seconds : 13403\n",
            "Hours :3 Minutes :43 Seconds :23\n"
          ]
        }
      ]
    },
    {
      "cell_type": "code",
      "source": [],
      "metadata": {
        "id": "VVDzC6YjNV_C"
      },
      "id": "VVDzC6YjNV_C",
      "execution_count": null,
      "outputs": []
    },
    {
      "cell_type": "code",
      "source": [],
      "metadata": {
        "id": "488hRfePORnt"
      },
      "id": "488hRfePORnt",
      "execution_count": null,
      "outputs": []
    },
    {
      "cell_type": "markdown",
      "source": [
        "# 6) Write a program that prompts the user to enter number in two variables and swap the contents of the variables."
      ],
      "metadata": {
        "id": "UoGgLtjyOSI6"
      },
      "id": "UoGgLtjyOSI6"
    },
    {
      "cell_type": "code",
      "source": [
        "int1 = (input(\"Enter num1 store in A: \"))\n",
        "int2 = (input(\"Enter num2 store in B: \"))\n",
        "print(\"A id: \", id(int1))\n",
        "print(\"B id: \", id(int2))\n",
        "\n",
        "var3 = int1\n",
        "int1 = int2\n",
        "int2 = var3\n",
        "print(f\"After Swapping: A is: {int1} and B is: {int2}\" )\n",
        "print(\"A id: \", id(int1))\n",
        "print(\"B id: \", id(int2))"
      ],
      "metadata": {
        "colab": {
          "base_uri": "https://localhost:8080/"
        },
        "id": "-F4T576LOV4T",
        "outputId": "0ef1f7c1-0a8a-4057-a1e1-9e51af4c8b34"
      },
      "id": "-F4T576LOV4T",
      "execution_count": null,
      "outputs": [
        {
          "output_type": "stream",
          "name": "stdout",
          "text": [
            "Enter num1 store in A: 65\n",
            "Enter num2 store in B: 9\n",
            "A id:  133193480654512\n",
            "B id:  133194803416624\n",
            "After Swapping: A is: 9 and B is: 65\n",
            "A id:  133194803416624\n",
            "B id:  133193480654512\n"
          ]
        }
      ]
    },
    {
      "cell_type": "code",
      "source": [],
      "metadata": {
        "id": "81oCoP-7Pcuc"
      },
      "id": "81oCoP-7Pcuc",
      "execution_count": null,
      "outputs": []
    },
    {
      "cell_type": "code",
      "source": [],
      "metadata": {
        "id": "mXF_2WZrP7_O"
      },
      "id": "mXF_2WZrP7_O",
      "execution_count": null,
      "outputs": []
    },
    {
      "cell_type": "markdown",
      "source": [
        "# 7) Write a program that prompts the user to enter number in two variables and swap the contents of the variables.(Do not declare extra variable.)"
      ],
      "metadata": {
        "id": "y_ZoCOOlP8WQ"
      },
      "id": "y_ZoCOOlP8WQ"
    },
    {
      "cell_type": "code",
      "source": [
        "int1 = (input(\"Enter num1 store in A: \"))\n",
        "int2 = (input(\"Enter num2 store in B: \"))\n",
        "print(\"A id: \", id(int1))\n",
        "print(\"B id: \", id(int2))\n",
        "int1, int2 = int2, int1\n",
        "print(f\"After Swapping: A is: {int1} and B is: {int2}\" )\n",
        "print(\"A id: \", id(int1))\n",
        "print(\"B id: \", id(int2))"
      ],
      "metadata": {
        "colab": {
          "base_uri": "https://localhost:8080/"
        },
        "id": "PhW8U30oQA2U",
        "outputId": "3045caf7-08f5-453b-fe72-b980c413d688"
      },
      "id": "PhW8U30oQA2U",
      "execution_count": null,
      "outputs": [
        {
          "output_type": "stream",
          "name": "stdout",
          "text": [
            "Enter num1 store in A: kjh\n",
            "Enter num2 store in B: 6\n",
            "A id:  133193479182896\n",
            "B id:  133194803416944\n",
            "After Swapping: A is: 6 and B is: kjh\n",
            "A id:  133194803416944\n",
            "B id:  133193479182896\n"
          ]
        }
      ]
    },
    {
      "cell_type": "code",
      "source": [],
      "metadata": {
        "id": "rrAf7vNlRDee"
      },
      "id": "rrAf7vNlRDee",
      "execution_count": null,
      "outputs": []
    },
    {
      "cell_type": "code",
      "source": [],
      "metadata": {
        "id": "xqZMUTjHRTQA"
      },
      "id": "xqZMUTjHRTQA",
      "execution_count": null,
      "outputs": []
    },
    {
      "cell_type": "markdown",
      "source": [
        "# 8) Write a program that prompts the user to input the radius of a circle and outputs the area and circumference of the circle.\n",
        "The formula is Area = pi x radius2 Circumference = 2 x pi x radius"
      ],
      "metadata": {
        "id": "-xD9RIORRTnS"
      },
      "id": "-xD9RIORRTnS"
    },
    {
      "cell_type": "code",
      "source": [
        "radius = float(input(\"Enter the radius of Circle : \"))\n",
        "Pi = 3.14\n",
        "area =  Pi * (radius**2)\n",
        "circum = 2 * Pi * radius\n",
        "print(\"Area of the Circle : \", area , \"Circumference is : \", circum)"
      ],
      "metadata": {
        "colab": {
          "base_uri": "https://localhost:8080/"
        },
        "id": "6tNFE7nxRYGX",
        "outputId": "e188ccf2-afba-44df-eb36-5669fa3524fd"
      },
      "id": "6tNFE7nxRYGX",
      "execution_count": null,
      "outputs": [
        {
          "output_type": "stream",
          "name": "stdout",
          "text": [
            "Enter the radius of Circle : 24\n",
            "Area of the Circle :  1808.64 Circumference is :  150.72\n"
          ]
        }
      ]
    },
    {
      "cell_type": "code",
      "source": [],
      "metadata": {
        "id": "CGTA2msqR1pu"
      },
      "id": "CGTA2msqR1pu",
      "execution_count": null,
      "outputs": []
    }
  ],
  "metadata": {
    "kernelspec": {
      "display_name": "Python 3 (ipykernel)",
      "language": "python",
      "name": "python3"
    },
    "language_info": {
      "codemirror_mode": {
        "name": "ipython",
        "version": 3
      },
      "file_extension": ".py",
      "mimetype": "text/x-python",
      "name": "python",
      "nbconvert_exporter": "python",
      "pygments_lexer": "ipython3",
      "version": "3.9.7"
    },
    "colab": {
      "provenance": [],
      "include_colab_link": true
    }
  },
  "nbformat": 4,
  "nbformat_minor": 5
}