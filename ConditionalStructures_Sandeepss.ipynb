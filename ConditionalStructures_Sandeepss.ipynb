{
  "cells": [
    {
      "cell_type": "markdown",
      "metadata": {
        "id": "view-in-github",
        "colab_type": "text"
      },
      "source": [
        "<a href=\"https://colab.research.google.com/github/sandeepss2020/learnbay/blob/python_class/ConditionalStructures_Sandeepss.ipynb\" target=\"_parent\"><img src=\"https://colab.research.google.com/assets/colab-badge.svg\" alt=\"Open In Colab\"/></a>"
      ]
    },
    {
      "cell_type": "markdown",
      "id": "bd7caacd",
      "metadata": {
        "id": "bd7caacd"
      },
      "source": [
        "### Conditional Structures\n",
        "\n",
        "1. Write a program that prompts the user to input a number and display if the number is even or odd.\n",
        "\n",
        "2. Write a program that prompts the user to input two integers and outputs the largest.\n",
        "\n",
        "3. Write a program that prompts the user to input three integers and outputs the largest.\n",
        "\n",
        "4. Write a program that prompts the user to input a year and determine whether the year is a leap year or not.\n",
        "Leap Years are any year that can be evenly divided by 4. A year that is evenly divisible by 100 is a leap year only if it is also evenly divisible by 400. Example :\n",
        "\n",
        "1992\tLeap Year\n",
        "2000\tLeap Year\n",
        "1900\tNOT a Leap Year\n",
        "1995\tNOT a Leap Year  Solution\n",
        "5. Write a program that prompts the user to input number of calls and calculate the monthly telephone bills as per the following rule:\n",
        "Minimum Rs. 200 for up to 100 calls.\n",
        "Plus Rs. 0.60 per call for next 50 calls.\n",
        "Plus Rs. 0.50 per call for next 50 calls.\n",
        "Plus Rs. 0.40 per call for any call beyond 200 calls. Solution\n",
        "\n",
        "6. The roots of the quadratic equation ax2 + bx + c = 0, a ≠ 0 are given by the following formula:\n",
        "\n",
        "In this formula, the term b2 - 4ac is called the discriminant. If b2 - 4ac = 0, then the equation has two equal roots.\n",
        "If b2 - 4ac > 0, the equation has two real roots. If b2 - 4ac < 0, the equation has two complex roots.\n",
        "\n",
        "Write a program that prompts the user to input the value of a (the coefficient of x2), b (the coefficient of x), and c (the constant term) and outputs the roots of the quadratic equation. Solution\n",
        "\n",
        "7. The marks obtained by a student in 3 different subjects are input by the user. Your program should calculate the average of subjects and display the grade. The student gets a grade as per the following rules:\n",
        "\n",
        "Average\tGrade\n",
        "90-100\tA\n",
        "80-89\tB\n",
        "70-79\tC\n",
        "60-69\tD\n",
        "0-59\tF Solution\n",
        "8. Write a program that prompts the user to input a number. Program should display the corresponding days to the number. For example if user type 1 the output should be sunday. If user type 7 the output should be saturday.\n",
        "\n",
        "9. Write a program that prompts the user to input a character and determine the character is vowel or consonant."
      ]
    },
    {
      "cell_type": "code",
      "execution_count": null,
      "id": "214f2654",
      "metadata": {
        "id": "214f2654"
      },
      "outputs": [],
      "source": []
    },
    {
      "cell_type": "markdown",
      "source": [
        "\n",
        "1) Conditional Structures\n",
        "# Write a program that prompts the user to input a number and display if the number is even or odd."
      ],
      "metadata": {
        "id": "3GvBD_dAd9wy"
      },
      "id": "3GvBD_dAd9wy"
    },
    {
      "cell_type": "code",
      "source": [
        "num = int(input(\"Enter a number : \"))\n",
        "if(num % 2 == 0):\n",
        "  print(\"The Number is Even\")\n",
        "else:\n",
        "  print(\"Number is Odd \")"
      ],
      "metadata": {
        "colab": {
          "base_uri": "https://localhost:8080/"
        },
        "id": "S_dUy5rTeBIc",
        "outputId": "45c03270-f44b-4033-b104-3f517e8a88f8"
      },
      "id": "S_dUy5rTeBIc",
      "execution_count": 2,
      "outputs": [
        {
          "output_type": "stream",
          "name": "stdout",
          "text": [
            "Enter a number : 88496\n",
            "The Number is Even\n"
          ]
        }
      ]
    },
    {
      "cell_type": "code",
      "source": [],
      "metadata": {
        "id": "PW05S2UPeyF_"
      },
      "id": "PW05S2UPeyF_",
      "execution_count": null,
      "outputs": []
    },
    {
      "cell_type": "code",
      "source": [],
      "metadata": {
        "id": "BfZWohqge-4y"
      },
      "id": "BfZWohqge-4y",
      "execution_count": null,
      "outputs": []
    },
    {
      "cell_type": "markdown",
      "source": [
        "# 2) Write a program that prompts the user to input two integers and outputs the largest."
      ],
      "metadata": {
        "id": "ocQj7Mhre_VG"
      },
      "id": "ocQj7Mhre_VG"
    },
    {
      "cell_type": "code",
      "source": [
        "num1 = int(input(\"Enter 1st Number : \"))\n",
        "num2 = int(input(\"Enter 2nd Number : \"))\n",
        "if(num1>num2):\n",
        "  print(num1, \"is Greater\")\n",
        "else:\n",
        "  print(num2, \"is Greater\")"
      ],
      "metadata": {
        "colab": {
          "base_uri": "https://localhost:8080/"
        },
        "id": "p_pdkIK_fBg1",
        "outputId": "58242b3a-a928-4dd3-a828-4bdfdef9eef4"
      },
      "id": "p_pdkIK_fBg1",
      "execution_count": 6,
      "outputs": [
        {
          "output_type": "stream",
          "name": "stdout",
          "text": [
            "Enter 1st Number : -98\n",
            "Enter 2nd Number : -97\n",
            "-97 is Greater\n"
          ]
        }
      ]
    },
    {
      "cell_type": "code",
      "source": [],
      "metadata": {
        "id": "oNXD10BUfXNV"
      },
      "id": "oNXD10BUfXNV",
      "execution_count": null,
      "outputs": []
    },
    {
      "cell_type": "code",
      "source": [],
      "metadata": {
        "id": "cafQliaYfpvK"
      },
      "id": "cafQliaYfpvK",
      "execution_count": null,
      "outputs": []
    },
    {
      "cell_type": "markdown",
      "source": [
        "# 3) Write a program that prompts the user to input three integers and outputs the largest."
      ],
      "metadata": {
        "id": "11D0Z2mIfqIO"
      },
      "id": "11D0Z2mIfqIO"
    },
    {
      "cell_type": "code",
      "source": [
        "num1 = int(input(\"Enter 1st number : \"))\n",
        "num2 = int(input(\"Enter 2nd number : \"))\n",
        "num3 = int(input(\"Enter 3rd number : \"))\n",
        "\n",
        "if(num1 > num2 and num1>num3):\n",
        "  print(\"Greatest number is \", num1)\n",
        "elif (num2 > num1 and num2 > num3):\n",
        "  print(\"Greatest number is \", num2)\n",
        "else:\n",
        "  print(\"Greatest number is \", num3)"
      ],
      "metadata": {
        "colab": {
          "base_uri": "https://localhost:8080/"
        },
        "id": "D2MI-hidfsuF",
        "outputId": "6da24bb3-9ce0-46c6-e2bd-bb3bf7a57e3d"
      },
      "id": "D2MI-hidfsuF",
      "execution_count": 10,
      "outputs": [
        {
          "output_type": "stream",
          "name": "stdout",
          "text": [
            "Enter 1st number : 96\n",
            "Enter 2nd number : 96\n",
            "Enter 3rd number : 964\n",
            "Greatest number is  964\n"
          ]
        }
      ]
    },
    {
      "cell_type": "code",
      "source": [],
      "metadata": {
        "id": "4aeim2NUgSW9"
      },
      "id": "4aeim2NUgSW9",
      "execution_count": null,
      "outputs": []
    },
    {
      "cell_type": "code",
      "source": [],
      "metadata": {
        "id": "vtvkQmfdgra8"
      },
      "id": "vtvkQmfdgra8",
      "execution_count": null,
      "outputs": []
    },
    {
      "cell_type": "markdown",
      "source": [
        "# 4) Write a program that prompts the user to input a year and determine whether the year is a leap year or not. Leap Years are any year that can be evenly divided by 4. A year that is evenly divisible by 100 is a leap year only if it is also evenly divisible by 400. Example :\n",
        "\n",
        "1992 Leap Year 2000 Leap Year 1900 NOT a Leap Year 1995 NOT a Leap Year Solution"
      ],
      "metadata": {
        "id": "O-fMRC1WhJas"
      },
      "id": "O-fMRC1WhJas"
    },
    {
      "cell_type": "code",
      "source": [
        "year = int(input(\"Enter a year : \"))\n",
        "if (year % 400 == 0) or (year % 4 == 0 and year % 100 != 0):\n",
        "  print(f'{year} is Leap year')\n",
        "else:\n",
        "  print(f'{year} is NOT a Leap year')"
      ],
      "metadata": {
        "colab": {
          "base_uri": "https://localhost:8080/"
        },
        "id": "15Jcng1_hMwg",
        "outputId": "6b4c5e44-99e7-4fc4-dca3-d1672bf89643"
      },
      "id": "15Jcng1_hMwg",
      "execution_count": 15,
      "outputs": [
        {
          "output_type": "stream",
          "name": "stdout",
          "text": [
            "Enter a year : 1900\n",
            "1900 is NOT a Leap year\n"
          ]
        }
      ]
    },
    {
      "cell_type": "code",
      "source": [],
      "metadata": {
        "id": "wiiSMERthfUc"
      },
      "id": "wiiSMERthfUc",
      "execution_count": null,
      "outputs": []
    },
    {
      "cell_type": "code",
      "source": [],
      "metadata": {
        "id": "HKVWVaPyibzo"
      },
      "id": "HKVWVaPyibzo",
      "execution_count": null,
      "outputs": []
    },
    {
      "cell_type": "markdown",
      "source": [
        "# 5) Write a program that prompts the user to input number of calls and calculate the monthly telephone bills as per the following rule: Minimum Rs. 200 for up to 100 calls. Plus Rs. 0.60 per call for next 50 calls. Plus Rs. 0.50 per call for next 50 calls. Plus Rs. 0.40 per call for any call beyond 200 calls."
      ],
      "metadata": {
        "id": "YVDg6fhZicFv"
      },
      "id": "YVDg6fhZicFv"
    },
    {
      "cell_type": "code",
      "source": [
        "# Solution 1\n",
        "\n",
        "num_of_calls = int(input(\"Enter total number of calls : \"))\n",
        "amount = 0\n",
        "if(num_of_calls <= 100):\n",
        "  amount = 200\n",
        "elif num_of_calls <= 150:\n",
        "  callAfter = num_of_calls - 100\n",
        "  amount = 200 + (0.60 * callAfter)\n",
        "elif num_of_calls <= 200:\n",
        "  callAfter = num_of_calls - 150\n",
        "  amount = 200 + (0.50 * callAfter) + (0.60 * 50)\n",
        "elif num_of_calls > 200:\n",
        "  callAfter = num_of_calls - 200\n",
        "  amount = 200 + (0.40 * callAfter) + (0.50 * 50) + (0.60 * 50)\n",
        "print(\"Your bill is:  Rs. \",amount)\n",
        "\n",
        "\n",
        "# # SOLUTION 2\n",
        "\n",
        "# num_of_calls = int(input(\"Enter total number of calls: \"))\n",
        "# # Base charge\n",
        "# amount = 200\n",
        "\n",
        "# if num_of_calls > 200:\n",
        "#     # Calls above 200\n",
        "#     amount += (num_of_calls - 200) * 0.40\n",
        "#     num_of_calls = 200\n",
        "# if num_of_calls > 150:\n",
        "#     # Calls from 151 to 200\n",
        "#     amount += (num_of_calls - 150) * 0.50\n",
        "#     num_of_calls = 150\n",
        "# if num_of_calls > 100:\n",
        "#     # Calls from 101 to 150\n",
        "#     amount += (num_of_calls - 100) * 0.60\n",
        "\n",
        "# print(\"Your bill is: Rs.\", amount)"
      ],
      "metadata": {
        "colab": {
          "base_uri": "https://localhost:8080/"
        },
        "id": "mBU5k1qTjQZb",
        "outputId": "3c916c84-c6b9-4f70-bbae-668a6552c690"
      },
      "id": "mBU5k1qTjQZb",
      "execution_count": 2,
      "outputs": [
        {
          "output_type": "stream",
          "name": "stdout",
          "text": [
            "Enter total number of calls : 151\n",
            "Your bill is:  Rs.  230.5\n"
          ]
        }
      ]
    },
    {
      "cell_type": "code",
      "source": [],
      "metadata": {
        "id": "WlCwTibzzsZH"
      },
      "id": "WlCwTibzzsZH",
      "execution_count": null,
      "outputs": []
    },
    {
      "cell_type": "code",
      "source": [],
      "metadata": {
        "id": "xXsxWLLqzt1s"
      },
      "id": "xXsxWLLqzt1s",
      "execution_count": null,
      "outputs": []
    },
    {
      "cell_type": "code",
      "source": [],
      "metadata": {
        "id": "OpEULsVRztyP"
      },
      "id": "OpEULsVRztyP",
      "execution_count": null,
      "outputs": []
    },
    {
      "cell_type": "code",
      "source": [],
      "metadata": {
        "id": "Mj25EmHfztv1"
      },
      "id": "Mj25EmHfztv1",
      "execution_count": null,
      "outputs": []
    },
    {
      "cell_type": "markdown",
      "source": [
        "# 7) The marks obtained by a student in 3 different subjects are input by the user. Your program should calculate the average of subjects and display the grade. The student gets a grade as per the following rules:\n",
        "Average Grade 90-100 A 80-89 B 70-79 C 60-69 D 0-59 F"
      ],
      "metadata": {
        "id": "dIZlB5T2zvrI"
      },
      "id": "dIZlB5T2zvrI"
    },
    {
      "cell_type": "code",
      "source": [
        "mark1 = float(input(\"Enter Marks of English : \"))\n",
        "mark2 = float(input(\"Enter Marks of Maths : \"))\n",
        "mark3 = float(input(\"Enter Marks of Science : \"))\n",
        "\n",
        "avg = (mark1 + mark2 + mark3) / 3\n",
        "grade = \"No Grade\"\n",
        "if avg >= 90 and avg<=100:\n",
        "  grade = \"A\"\n",
        "elif avg >=80 and avg < 90:\n",
        "  grade = \"B\"\n",
        "elif avg >= 70 and avg < 80:\n",
        "  grade = \"C\"\n",
        "elif avg >= 60 and avg < 70:\n",
        "  grade = \"D\"\n",
        "elif avg > 0 and avg < 60:\n",
        "  grade = \"F\"\n",
        "avg = round(avg, 2)\n",
        "\n",
        "print(f'Your avg marks is {avg} and Got Grade : {grade}')\n"
      ],
      "metadata": {
        "colab": {
          "base_uri": "https://localhost:8080/"
        },
        "id": "nXrCoXYil4RZ",
        "outputId": "ad939168-3cdb-4606-a64b-6b62f2e0df79"
      },
      "id": "nXrCoXYil4RZ",
      "execution_count": 6,
      "outputs": [
        {
          "output_type": "stream",
          "name": "stdout",
          "text": [
            "Enter Marks of English : 0\n",
            "Enter Marks of Maths : -98\n",
            "Enter Marks of Science : 5\n",
            "Your avg marks is -31.0 and Got Grade : No Grade\n"
          ]
        }
      ]
    },
    {
      "cell_type": "code",
      "source": [],
      "metadata": {
        "id": "KPZKXdHwoIZd"
      },
      "id": "KPZKXdHwoIZd",
      "execution_count": null,
      "outputs": []
    },
    {
      "cell_type": "code",
      "source": [],
      "metadata": {
        "id": "LtMKy7h_6AeU"
      },
      "id": "LtMKy7h_6AeU",
      "execution_count": null,
      "outputs": []
    },
    {
      "cell_type": "markdown",
      "source": [
        "# 8) Write a program that prompts the user to input a number. Program should display the corresponding days to the number. For example if user type 1 the output should be sunday. If user type 7 the output should be saturday."
      ],
      "metadata": {
        "id": "xw8HjZRM6Azf"
      },
      "id": "xw8HjZRM6Azf"
    },
    {
      "cell_type": "code",
      "source": [
        "weekDays = ['Sunday','Monday', 'Tuesday', 'Wednesday','Thursday','Friday','Saturday']\n",
        "userIn = int(input(\"Enter num b/w 1-7 : \"))\n",
        "for i in range(8):\n",
        "  if userIn == i+1 :\n",
        "    print(\"Your weekday is : \", weekDays[i])\n",
        "    break\n",
        "  elif userIn < 1 or userIn > 7:\n",
        "    print(\"Number should be between 1-7\")\n",
        "    break"
      ],
      "metadata": {
        "colab": {
          "base_uri": "https://localhost:8080/"
        },
        "id": "8e5UbyJJ6C5K",
        "outputId": "d277ebc5-f7bb-4a9e-9f69-ad4d8e1e8928"
      },
      "id": "8e5UbyJJ6C5K",
      "execution_count": 12,
      "outputs": [
        {
          "output_type": "stream",
          "name": "stdout",
          "text": [
            "Enter num b/w 1-7 : 1\n",
            "Your weekday is :  Sunday\n"
          ]
        }
      ]
    },
    {
      "cell_type": "code",
      "source": [],
      "metadata": {
        "id": "9fDdnIUFT_1g"
      },
      "id": "9fDdnIUFT_1g",
      "execution_count": null,
      "outputs": []
    },
    {
      "cell_type": "code",
      "source": [],
      "metadata": {
        "id": "0qD2d-HmVNyN"
      },
      "id": "0qD2d-HmVNyN",
      "execution_count": null,
      "outputs": []
    },
    {
      "cell_type": "markdown",
      "source": [
        "# 9) Write a program that prompts the user to input a character and determine the character is vowel or consonant."
      ],
      "metadata": {
        "id": "LyCblwmdVOKs"
      },
      "id": "LyCblwmdVOKs"
    },
    {
      "cell_type": "code",
      "source": [
        "vowels = ['a','e','i','o','u']\n",
        "chars = input(\"Enter a Character to check vowel or consonant  : \")\n",
        "if chars.lower() in vowels:\n",
        "  print(\"It is a Vowel\")\n",
        "else:\n",
        "  print(f\"It's a consonant\")"
      ],
      "metadata": {
        "colab": {
          "base_uri": "https://localhost:8080/"
        },
        "id": "pYcfSIOIVRHp",
        "outputId": "46a345bb-64ef-49a5-9152-99791e46b253"
      },
      "id": "pYcfSIOIVRHp",
      "execution_count": 17,
      "outputs": [
        {
          "output_type": "stream",
          "name": "stdout",
          "text": [
            "Enter a Character to check vowel or consonant  : A\n",
            "It is a Vowel\n"
          ]
        }
      ]
    },
    {
      "cell_type": "code",
      "source": [],
      "metadata": {
        "id": "3wL_HyN6VwXr"
      },
      "id": "3wL_HyN6VwXr",
      "execution_count": 14,
      "outputs": []
    }
  ],
  "metadata": {
    "kernelspec": {
      "display_name": "Python 3 (ipykernel)",
      "language": "python",
      "name": "python3"
    },
    "language_info": {
      "codemirror_mode": {
        "name": "ipython",
        "version": 3
      },
      "file_extension": ".py",
      "mimetype": "text/x-python",
      "name": "python",
      "nbconvert_exporter": "python",
      "pygments_lexer": "ipython3",
      "version": "3.9.7"
    },
    "colab": {
      "provenance": [],
      "include_colab_link": true
    }
  },
  "nbformat": 4,
  "nbformat_minor": 5
}