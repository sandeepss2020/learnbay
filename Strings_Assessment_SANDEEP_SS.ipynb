{
  "cells": [
    {
      "cell_type": "markdown",
      "metadata": {
        "id": "view-in-github",
        "colab_type": "text"
      },
      "source": [
        "<a href=\"https://colab.research.google.com/github/sandeepss2020/learnbay/blob/python_class/Strings_Assessment_SANDEEP_SS.ipynb\" target=\"_parent\"><img src=\"https://colab.research.google.com/assets/colab-badge.svg\" alt=\"Open In Colab\"/></a>"
      ]
    },
    {
      "cell_type": "markdown",
      "id": "8db1a4d8",
      "metadata": {
        "id": "8db1a4d8"
      },
      "source": [
        "### Strings\n",
        "1. Write a program that accepts a string from user. Your program should count and display number of vowels in that string.\n",
        "\n",
        "2. Write a program that reads a string from keyboard and display:\n",
        "* The number of uppercase letters in the string\n",
        "* The number of lowercase letters in the string\n",
        "* The number of digits in the string\n",
        "* The number of whitespace characters in the string\n",
        "\n",
        "3. Write a Python program that accepts a string from user. Your program should create and display a new string where the first and last characters have been exchanged.\n",
        "\n",
        "For example if the user enters the string 'HELLO' then new string would be 'OELLH'\n",
        "\n",
        "4. Write a Python program that accepts a string from user. Your program should create a new string in reverse of first string and display it.\n",
        "\n",
        "For example if the user enters the string 'EXAM' then new string would be 'MAXE'\n",
        "\n",
        "5. Write a Python program that accepts a string from user. Your program should create a new string by shifting one position to left.\n",
        "\n",
        "For example if the user enters the string 'examination 2021' then new string would be 'xamination 2021e'\n",
        "\n",
        "6. Write a program that asks the user to input his name and print its initials. Assuming that the user always types first name, middle name and last name and does not include any unnecessary spaces.\n",
        "\n",
        "For example, if the user enters Ajay Kumar Garg the program should display A. K. G.\n",
        "Note:Don't use split() method\n",
        "\n",
        "7. A palindrome is a string that reads the same backward as forward. For example, the words dad, madam and radar are all palindromes. Write a programs that determines whether the string is a palindrome.\n",
        "\n",
        "Note: do not use reverse() method\n",
        "\n",
        "8. Write a program that display following output:\n",
        "SHIFT\n",
        "HIFTS\n",
        "IFTSH\n",
        "FTSHI\n",
        "TSHIF\n",
        "SHIFT Solution\n",
        "\n",
        "9. Write a program in python that accepts a string to setup a passwords. Your entered password must meet the following requirements:\n",
        "\n",
        "The password must be at least eight characters long.\n",
        "It must contain at least one uppercase letter.\n",
        "It must contain at least one lowercase letter.\n",
        "It must contain at least one numeric digit.\n",
        "Your program should should perform this validation."
      ]
    },
    {
      "cell_type": "code",
      "execution_count": null,
      "id": "a2d34ec3",
      "metadata": {
        "id": "a2d34ec3"
      },
      "outputs": [],
      "source": []
    },
    {
      "cell_type": "markdown",
      "source": [
        "# 1) Write a program that accepts a string from user. Your program should count and display number of vowels in that string."
      ],
      "metadata": {
        "id": "PMCksD-fe4Cj"
      },
      "id": "PMCksD-fe4Cj"
    },
    {
      "cell_type": "code",
      "source": [
        "userSentence = input(\"Give your Sentence to count vowels : \")\n",
        "vowels = [\"a\",\"e\",\"i\",\"o\",\"u\"]\n",
        "vCount = 0\n",
        "for ind,char in enumerate(userSentence):\n",
        "  if(char.lower() in vowels):\n",
        "    vCount+=1\n",
        "\n",
        "print (\"Total Vowel Count is : \", vCount)"
      ],
      "metadata": {
        "colab": {
          "base_uri": "https://localhost:8080/"
        },
        "id": "316yP8y7e3IN",
        "outputId": "2cd0da82-6a86-4969-8235-5971ebe6d1d9"
      },
      "id": "316yP8y7e3IN",
      "execution_count": null,
      "outputs": [
        {
          "output_type": "stream",
          "name": "stdout",
          "text": [
            "Give your Sentence to count vowels : A bs kr na bhai eee op unm io. \n",
            "Total Vowel Count is :  11\n"
          ]
        }
      ]
    },
    {
      "cell_type": "code",
      "source": [],
      "metadata": {
        "id": "3X6hUQOFwEr8"
      },
      "id": "3X6hUQOFwEr8",
      "execution_count": null,
      "outputs": []
    },
    {
      "cell_type": "code",
      "source": [],
      "metadata": {
        "id": "jzeb9VqQwEoc"
      },
      "id": "jzeb9VqQwEoc",
      "execution_count": null,
      "outputs": []
    },
    {
      "cell_type": "markdown",
      "source": [
        "# 2) Write a program that reads a string from keyboard and display:\n",
        "\n",
        "The number of uppercase letters in the string,\n",
        "The number of lowercase letters in the string,\n",
        "The number of digits in the string,\n",
        "The number of whitespace characters in the string,"
      ],
      "metadata": {
        "id": "wPR_XXNssDlT"
      },
      "id": "wPR_XXNssDlT"
    },
    {
      "cell_type": "code",
      "source": [
        "userSentence = input(\"Enter your Sentence : \")\n",
        "countUpper = countLower = countDigit = countSpace = 0\n",
        "for ind,char in enumerate(userSentence):\n",
        "  if char.isupper():\n",
        "    countUpper+=1\n",
        "  elif char.islower():\n",
        "    countLower+=1\n",
        "  elif char.isalnum():\n",
        "    countDigit +=1\n",
        "  elif char.isspace():\n",
        "    countSpace+=1\n",
        "\n",
        "print(f'Upper count :{countUpper} , Lower count is :{countLower}, Digit count is :{countDigit} and, WhiteSpace count is :{countSpace} ')"
      ],
      "metadata": {
        "colab": {
          "base_uri": "https://localhost:8080/"
        },
        "id": "haaJTPQYfg77",
        "outputId": "4677b61f-30f0-4c97-82ce-5846a5a884ca"
      },
      "id": "haaJTPQYfg77",
      "execution_count": null,
      "outputs": [
        {
          "output_type": "stream",
          "name": "stdout",
          "text": [
            "Enter your Sentence : A simpleBIG Sentence 1234\n",
            "Upper count :5 , Lower count is :13, Digit count is :4 and, WhiteSpace count is :3 \n"
          ]
        }
      ]
    },
    {
      "cell_type": "code",
      "source": [],
      "metadata": {
        "id": "ms8M0enpwJ1Y"
      },
      "id": "ms8M0enpwJ1Y",
      "execution_count": null,
      "outputs": []
    },
    {
      "cell_type": "code",
      "source": [],
      "metadata": {
        "id": "l49QAB1xwJyB"
      },
      "id": "l49QAB1xwJyB",
      "execution_count": null,
      "outputs": []
    },
    {
      "cell_type": "markdown",
      "source": [
        "# 3) Write a Python program that accepts a string from user. Your program should create and display a new string where the first and last characters have been exchanged.\n",
        "For example if the user enters the string 'HELLO' then new string would be 'OELLH'"
      ],
      "metadata": {
        "id": "TwVCOviKv6py"
      },
      "id": "TwVCOviKv6py"
    },
    {
      "cell_type": "code",
      "source": [
        "userInput = input(\"Enter Your String : \")\n",
        "firstChar = userInput[0]\n",
        "lastChar = userInput[-1]\n",
        "userOutput = lastChar+userInput[1:-1]+firstChar\n",
        "print(\"Expected Output : \", userOutput)\n"
      ],
      "metadata": {
        "colab": {
          "base_uri": "https://localhost:8080/"
        },
        "id": "3zDI40V4svaq",
        "outputId": "80c1951d-80ef-4d27-c312-5dc2af449ff1"
      },
      "id": "3zDI40V4svaq",
      "execution_count": null,
      "outputs": [
        {
          "output_type": "stream",
          "name": "stdout",
          "text": [
            "Enter Your String : I am on the planet\n",
            "Expected Output :  t am on the planeI\n"
          ]
        }
      ]
    },
    {
      "cell_type": "code",
      "source": [],
      "metadata": {
        "id": "MP61cM_6xo-W"
      },
      "id": "MP61cM_6xo-W",
      "execution_count": null,
      "outputs": []
    },
    {
      "cell_type": "code",
      "source": [],
      "metadata": {
        "id": "wOFDBI_jxo67"
      },
      "id": "wOFDBI_jxo67",
      "execution_count": null,
      "outputs": []
    },
    {
      "cell_type": "markdown",
      "source": [
        "# 4) Write a Python program that accepts a string from user. Your program should create a new string in reverse of first string and display it.\n",
        "For example if the user enters the string 'EXAM' then new string would be 'MAXE'"
      ],
      "metadata": {
        "id": "T1bAIJqFxp2R"
      },
      "id": "T1bAIJqFxp2R"
    },
    {
      "cell_type": "code",
      "source": [
        "userInput = input(\"Enter your String : \")\n",
        "expectedOuput = userInput[::-1]\n",
        "print(f'Original String : {userInput} . Your Reverse Output: {expectedOuput}.')"
      ],
      "metadata": {
        "colab": {
          "base_uri": "https://localhost:8080/"
        },
        "id": "uDiA0DAJvj-O",
        "outputId": "3e9a26c0-29e1-40ad-a9cd-aff901e2fc6e"
      },
      "id": "uDiA0DAJvj-O",
      "execution_count": null,
      "outputs": [
        {
          "output_type": "stream",
          "name": "stdout",
          "text": [
            "Enter your String : ExamsS.\n",
            "Original String : ExamsS. . Your Reverse Output: .SsmaxE.\n"
          ]
        }
      ]
    },
    {
      "cell_type": "code",
      "source": [],
      "metadata": {
        "id": "IyzHUKtlytCt"
      },
      "id": "IyzHUKtlytCt",
      "execution_count": null,
      "outputs": []
    },
    {
      "cell_type": "code",
      "source": [],
      "metadata": {
        "id": "gqE5KGgeyooH"
      },
      "id": "gqE5KGgeyooH",
      "execution_count": null,
      "outputs": []
    },
    {
      "cell_type": "markdown",
      "source": [
        "# 5) Write a Python program that accepts a string from user. Your program should create a new string by shifting one position to left.\n",
        "For example if the user enters the string 'examination 2021' then new string would be 'xamination 2021e'"
      ],
      "metadata": {
        "id": "0nFDPc7wynqw"
      },
      "id": "0nFDPc7wynqw"
    },
    {
      "cell_type": "code",
      "source": [
        "userSent = input(\"Enter your Sentence : \")\n",
        "userOut = userSent[1:]+userSent[0]\n",
        "print(f'Original String : {userSent} . Your Expected Output: {userOut}.')\n"
      ],
      "metadata": {
        "colab": {
          "base_uri": "https://localhost:8080/"
        },
        "id": "Bs4WKsZ3yMf-",
        "outputId": "d1cf69c9-b20b-4204-dcfa-f3bcda426f85"
      },
      "id": "Bs4WKsZ3yMf-",
      "execution_count": null,
      "outputs": [
        {
          "output_type": "stream",
          "name": "stdout",
          "text": [
            "Enter your Sentence : Mahe Expectd\n",
            "Original String : Mahe Expectd . Your Expected Output: ahe ExpectdM.\n"
          ]
        }
      ]
    },
    {
      "cell_type": "code",
      "source": [],
      "metadata": {
        "id": "LrenXJeq1CeW"
      },
      "id": "LrenXJeq1CeW",
      "execution_count": null,
      "outputs": []
    },
    {
      "cell_type": "code",
      "source": [],
      "metadata": {
        "id": "vuJXFaQVzHpe"
      },
      "id": "vuJXFaQVzHpe",
      "execution_count": null,
      "outputs": []
    },
    {
      "cell_type": "markdown",
      "source": [
        "# 6) Write a program that asks the user to input his name and print its initials. Assuming that the user always types first name, middle name and last name and does not include any unnecessary spaces.\n",
        "For example, if the user enters Ajay Kumar Garg the program should display A. K. G. Note:Don't use split() method"
      ],
      "metadata": {
        "id": "Gty-B9vD1DAx"
      },
      "id": "Gty-B9vD1DAx"
    },
    {
      "cell_type": "code",
      "source": [
        "from __future__ import print_function\n",
        "userName = input(\"Enter Your Full Name : \")\n",
        "userName = userName.strip()\n",
        "userOut = userName.title()\n",
        "for char in userOut:\n",
        "  if char.isupper():\n",
        "    print(char, end =\". \")\n",
        "\n"
      ],
      "metadata": {
        "colab": {
          "base_uri": "https://localhost:8080/"
        },
        "id": "lezt23Et1GMX",
        "outputId": "40b5f049-30f3-4135-c012-6986a9d70bd3"
      },
      "id": "lezt23Et1GMX",
      "execution_count": null,
      "outputs": [
        {
          "output_type": "stream",
          "name": "stdout",
          "text": [
            "Enter Your Full Name : akash kumar gupta\n",
            "A. K. G. "
          ]
        }
      ]
    },
    {
      "cell_type": "code",
      "source": [],
      "metadata": {
        "id": "-5ZZtVXi1wKy"
      },
      "id": "-5ZZtVXi1wKy",
      "execution_count": null,
      "outputs": []
    },
    {
      "cell_type": "code",
      "source": [],
      "metadata": {
        "id": "H9jqA5LX3_RP"
      },
      "id": "H9jqA5LX3_RP",
      "execution_count": null,
      "outputs": []
    },
    {
      "cell_type": "markdown",
      "source": [
        "# 7) A palindrome is a string that reads the same backward as forward. For example, the words dad, madam and radar are all palindromes. Write a programs that determines whether the string is a palindrome.\n",
        "Note: do not use reverse() method"
      ],
      "metadata": {
        "id": "8Ugtg6zN3-hi"
      },
      "id": "8Ugtg6zN3-hi"
    },
    {
      "cell_type": "code",
      "source": [
        "usrSent = input(\"Enter your word / sentence : \")\n",
        "if usrSent == usrSent[::-1]:\n",
        "  print(\"Hurray !! This is an palindrome sentence\")\n",
        "else:\n",
        "  print(\"Not palindrome sentence.\")"
      ],
      "metadata": {
        "colab": {
          "base_uri": "https://localhost:8080/"
        },
        "id": "vkKuibN03-Gz",
        "outputId": "b24b9e3e-3c1a-46c6-c6d9-0323960705ab"
      },
      "id": "vkKuibN03-Gz",
      "execution_count": null,
      "outputs": [
        {
          "output_type": "stream",
          "name": "stdout",
          "text": [
            "Enter your word / sentence : naman\n",
            "Hurray !! This is an palindrome sentence\n"
          ]
        }
      ]
    },
    {
      "cell_type": "code",
      "source": [],
      "metadata": {
        "id": "x_T8d4NM44yp"
      },
      "id": "x_T8d4NM44yp",
      "execution_count": null,
      "outputs": []
    },
    {
      "cell_type": "code",
      "source": [],
      "metadata": {
        "id": "rXyMrI1l4XFj"
      },
      "id": "rXyMrI1l4XFj",
      "execution_count": null,
      "outputs": []
    },
    {
      "cell_type": "markdown",
      "source": [
        "# 8) Write a program that display following output: SHIFT HIFTS IFTSH FTSHI TSHIF SHIFT Solution"
      ],
      "metadata": {
        "id": "Hgb9YAv645RJ"
      },
      "id": "Hgb9YAv645RJ"
    },
    {
      "cell_type": "code",
      "source": [
        "userInput8 = input(\"Enter your word : \")\n",
        "for ind, char in enumerate(userInput8):\n",
        "  print(userInput8 , end=\" \")\n",
        "  newWord = userInput8[1:]+userInput8[0]\n",
        "  userInput8 = newWord"
      ],
      "metadata": {
        "colab": {
          "base_uri": "https://localhost:8080/"
        },
        "id": "HGFXS1JJ5RL4",
        "outputId": "c3741818-9d9c-4f09-813b-7598092764b9"
      },
      "id": "HGFXS1JJ5RL4",
      "execution_count": null,
      "outputs": [
        {
          "output_type": "stream",
          "name": "stdout",
          "text": [
            "Enter your word : Shift\n",
            "Shift hiftS iftSh ftShi tShif "
          ]
        }
      ]
    },
    {
      "cell_type": "code",
      "source": [],
      "metadata": {
        "id": "cTQcYLEY6ODN"
      },
      "id": "cTQcYLEY6ODN",
      "execution_count": null,
      "outputs": []
    },
    {
      "cell_type": "code",
      "source": [],
      "metadata": {
        "id": "aVu5f0wq7MJ8"
      },
      "id": "aVu5f0wq7MJ8",
      "execution_count": null,
      "outputs": []
    },
    {
      "cell_type": "markdown",
      "source": [
        "# 9) Write a program in python that accepts a string to setup a passwords. Your entered password must meet the following requirements:\n",
        "\n",
        "The password must be at least eight characters long. It must contain at least one uppercase letter. It must contain at least one lowercase letter. It must contain at least one numeric digit. Your program should should perform this validation."
      ],
      "metadata": {
        "id": "f-IjRsfg7MiR"
      },
      "id": "f-IjRsfg7MiR"
    },
    {
      "cell_type": "code",
      "source": [
        "print(\"Your Password Criteria : The password must be at least eight characters long. \\\n",
        "It must contain at least one uppercase letter. It must contain at least one lowercase letter. \\\n",
        "It must contain at least one numeric digit.\\\n",
        "\\n Note : White space will be removed. \")\n",
        "userPass = input(\"Enter your password : \")\n",
        "userPassList = userPass.split(\" \")\n",
        "userFinalPass = \"\".join(userPassList)\n",
        "if(len(userFinalPass) >= 8):\n",
        "  upperCount = lowerCount = digitCount = 0\n",
        "  for char in userFinalPass:\n",
        "    if char.isupper():\n",
        "      upperCount +=1\n",
        "    elif char.islower():\n",
        "      lowerCount +=1\n",
        "    elif char.isalnum():\n",
        "      digitCount +=1\n",
        "  if(upperCount > 0 and lowerCount > 0 and digitCount > 0):\n",
        "    print(f'Password: \"{userFinalPass}\" is Accepted.')\n",
        "  else:\n",
        "    print(f\"Password : '{userFinalPass}' is not matching with Criteria. PLease try again.\")\n",
        "else:\n",
        "  print(\"Password must be at least 8 characters long.\")"
      ],
      "metadata": {
        "colab": {
          "base_uri": "https://localhost:8080/"
        },
        "id": "1ax0IM1x7Pnf",
        "outputId": "033bc777-a617-4356-b361-5cc2fc0798bb"
      },
      "id": "1ax0IM1x7Pnf",
      "execution_count": null,
      "outputs": [
        {
          "output_type": "stream",
          "name": "stdout",
          "text": [
            "Your Password Criteria : The password must be at least eight characters long. It must contain at least one uppercase letter. It must contain at least one lowercase letter. It must contain at least one numeric digit.\n",
            " Note : White space will be removed. \n",
            "Enter your password : Password ijij 2\n",
            "Password: \"Passwordijij2\" is Accepted.\n"
          ]
        }
      ]
    },
    {
      "cell_type": "code",
      "source": [],
      "metadata": {
        "id": "e3mWTK2v7lY1"
      },
      "id": "e3mWTK2v7lY1",
      "execution_count": null,
      "outputs": []
    }
  ],
  "metadata": {
    "kernelspec": {
      "display_name": "Python 3 (ipykernel)",
      "language": "python",
      "name": "python3"
    },
    "language_info": {
      "codemirror_mode": {
        "name": "ipython",
        "version": 3
      },
      "file_extension": ".py",
      "mimetype": "text/x-python",
      "name": "python",
      "nbconvert_exporter": "python",
      "pygments_lexer": "ipython3",
      "version": "3.9.13"
    },
    "colab": {
      "provenance": [],
      "include_colab_link": true
    }
  },
  "nbformat": 4,
  "nbformat_minor": 5
}